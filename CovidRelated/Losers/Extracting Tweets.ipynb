{
 "cells": [
  {
   "cell_type": "markdown",
   "metadata": {},
   "source": [
    "<h1 style=\"font-size:2.1em;\n",
    "           font-family: Calibri\n",
    "           padding: 20px;\n",
    "           margin: 20px;\n",
    "           height: 100px;\n",
    "           line-height: 100px;\n",
    "           align-items: center;\n",
    "           text-align: center;\n",
    "           border: 3px solid #006400;\n",
    "           background-color: #f1f1f1;\n",
    "           \"> Downloading Covid Related Tweets - NASDAQ Price Losers </h1>"
   ]
  },
  {
   "cell_type": "code",
   "execution_count": 1,
   "metadata": {},
   "outputs": [],
   "source": [
    "#import packages\n",
    "import quandl\n",
    "import pandas as pd\n",
    "import matplotlib.pyplot as plt\n",
    "import numpy as np\n",
    "import os\n",
    "from bs4 import BeautifulSoup\n",
    "\n",
    "\n",
    "from datetime import datetime, timedelta\n",
    "from bsi_sentiment.twitter import search_tweets_sn"
   ]
  },
  {
   "cell_type": "code",
   "execution_count": 2,
   "metadata": {},
   "outputs": [
    {
     "name": "stdout",
     "output_type": "stream",
     "text": [
      "['@united or UnitedAirlines or $UAL', '@Marriott or Marriot or $MAR', '@walgreens or Walgreens or $WBA', '@westerndigital or WesternDigital or $WDC', '@Exelon or Exelon or $EXC']\n",
      "['UAL', 'MAR', 'WBA', 'WDC', 'EXC']\n"
     ]
    }
   ],
   "source": [
    "ListOfTwitterHandles = pd.read_csv(os.path.join('./Data', 'TwitterHandles.csv'))\n",
    "print(ListOfTwitterHandles.TwitterHandle.to_list())\n",
    "print(ListOfTwitterHandles.Symbol.to_list())"
   ]
  },
  {
   "cell_type": "code",
   "execution_count": 3,
   "metadata": {},
   "outputs": [
    {
     "data": {
      "text/plain": [
       "['@united', 'UnitedAirlines', '$UAL']"
      ]
     },
     "execution_count": 3,
     "metadata": {},
     "output_type": "execute_result"
    }
   ],
   "source": [
    "[x.replace(\" \",\"\") for x in ListOfTwitterHandles.TwitterHandle[0].split('or')]"
   ]
  },
  {
   "cell_type": "markdown",
   "metadata": {},
   "source": [
    "## Extract the Tweets"
   ]
  },
  {
   "cell_type": "code",
   "execution_count": 6,
   "metadata": {},
   "outputs": [
    {
     "name": "stderr",
     "output_type": "stream",
     "text": [
      "\r",
      "Downloading tweets:   0%|                                                                 | 0/10000000 [00:00<?, ?it/s]"
     ]
    },
    {
     "name": "stdout",
     "output_type": "stream",
     "text": [
      "@united\n"
     ]
    },
    {
     "name": "stderr",
     "output_type": "stream",
     "text": [
      "Downloading tweets:   0%|                                                 | 17508/10000000 [02:37<24:56:23, 111.18it/s]\n",
      "Downloading tweets:   0%|                                                                 | 0/10000000 [00:00<?, ?it/s]"
     ]
    },
    {
     "name": "stdout",
     "output_type": "stream",
     "text": [
      "UnitedAirlines\n"
     ]
    },
    {
     "name": "stderr",
     "output_type": "stream",
     "text": [
      "Downloading tweets:   0%|                                                  | 3421/10000000 [00:32<26:37:50, 104.27it/s]\n",
      "Downloading tweets:   0%|                                                                 | 0/10000000 [00:00<?, ?it/s]"
     ]
    },
    {
     "name": "stdout",
     "output_type": "stream",
     "text": [
      "$UAL\n"
     ]
    },
    {
     "name": "stderr",
     "output_type": "stream",
     "text": [
      "Downloading tweets:   0%|                                                  | 6345/10000000 [00:56<24:37:51, 112.70it/s]\n",
      "Downloading tweets:   0%|                                                                 | 0/10000000 [00:00<?, ?it/s]"
     ]
    },
    {
     "name": "stdout",
     "output_type": "stream",
     "text": [
      "@Marriott\n"
     ]
    },
    {
     "name": "stderr",
     "output_type": "stream",
     "text": [
      "Downloading tweets:   0%|                                                   | 5928/10000000 [00:59<27:52:18, 99.60it/s]\n",
      "Downloading tweets:   0%|                                                                 | 0/10000000 [00:00<?, ?it/s]"
     ]
    },
    {
     "name": "stdout",
     "output_type": "stream",
     "text": [
      "Marriot\n"
     ]
    },
    {
     "name": "stderr",
     "output_type": "stream",
     "text": [
      "Downloading tweets:   0%|                                                  | 3180/10000000 [00:26<23:00:07, 120.72it/s]\n",
      "Downloading tweets:   0%|                                                                 | 0/10000000 [00:00<?, ?it/s]"
     ]
    },
    {
     "name": "stdout",
     "output_type": "stream",
     "text": [
      "$MAR\n"
     ]
    },
    {
     "name": "stderr",
     "output_type": "stream",
     "text": [
      "Downloading tweets:   0%|                                                  | 2250/10000000 [00:20<24:51:11, 111.74it/s]\n",
      "Downloading tweets:   0%|                                                                 | 0/10000000 [00:00<?, ?it/s]"
     ]
    },
    {
     "name": "stdout",
     "output_type": "stream",
     "text": [
      "@walgreens\n"
     ]
    },
    {
     "name": "stderr",
     "output_type": "stream",
     "text": [
      "Downloading tweets:   0%|                                                  | 6911/10000000 [01:07<27:03:31, 102.59it/s]\n",
      "Downloading tweets:   0%|                                                                 | 0/10000000 [00:00<?, ?it/s]"
     ]
    },
    {
     "name": "stdout",
     "output_type": "stream",
     "text": [
      "Walgreens\n"
     ]
    },
    {
     "name": "stderr",
     "output_type": "stream",
     "text": [
      "Downloading tweets:   0%|▏                                                | 48152/10000000 [06:52<23:40:03, 116.80it/s]\n",
      "Downloading tweets:   0%|                                                                 | 0/10000000 [00:00<?, ?it/s]"
     ]
    },
    {
     "name": "stdout",
     "output_type": "stream",
     "text": [
      "$WBA\n"
     ]
    },
    {
     "name": "stderr",
     "output_type": "stream",
     "text": [
      "Downloading tweets:   0%|                                                  | 2827/10000000 [00:24<24:15:13, 114.50it/s]\n"
     ]
    }
   ],
   "source": [
    "#Directory = r\"\\\\gibfs1\\Profiles\\Redirection\\s.khanbhai\\Documents\\GitHub\\FamilyTree\\Twitter-Stock-Analysis\\CovidRelated\\Losers\"\n",
    "Handles = ['UAL', 'MAR', 'WBA']\n",
    "\n",
    "for i, HandleList in enumerate(Handles):\n",
    "    TweetList_df = pd.DataFrame([])\n",
    "    for Term in [x.replace(\" \",\"\") for x in ListOfTwitterHandles.TwitterHandle[i].split('or')]:        \n",
    "        print(Term)\n",
    "        tweets = search_tweets_sn(\n",
    "        q = str(Term),\n",
    "        since = \"2020-01-19\",\n",
    "        until=\"2020-04-18\",\n",
    "        lang=\"en\",\n",
    "        max_tweets=10000000\n",
    "        )\n",
    "\n",
    "        TweetList_df = TweetList_df.append(pd.DataFrame(\n",
    "            [[tweet.date, tweet.text, tweet.username, ListOfTwitterHandles.Company[i], ListOfTwitterHandles.Symbol[i], Term] for tweet in tweets], \n",
    "            columns= ['Created','Text','User', 'Company', 'Symbol', 'TwitterTerm']\n",
    "            ))\n",
    "    #Tweetlist_BSI_df = Tweetlist_BSI_df.append(Tweetlist)\n",
    "    \n",
    "    \n",
    "    TweetList_df.to_csv(os.path.join('./Data',\n",
    "                                  'CompanyTweets',\n",
    "                                  f'Tweets {ListOfTwitterHandles.Symbol[i]} 20200119 to 20200418.csv'), index=False) "
   ]
  },
  {
   "cell_type": "code",
   "execution_count": 7,
   "metadata": {},
   "outputs": [
    {
     "data": {
      "text/html": [
       "<div>\n",
       "<style scoped>\n",
       "    .dataframe tbody tr th:only-of-type {\n",
       "        vertical-align: middle;\n",
       "    }\n",
       "\n",
       "    .dataframe tbody tr th {\n",
       "        vertical-align: top;\n",
       "    }\n",
       "\n",
       "    .dataframe thead th {\n",
       "        text-align: right;\n",
       "    }\n",
       "</style>\n",
       "<table border=\"1\" class=\"dataframe\">\n",
       "  <thead>\n",
       "    <tr style=\"text-align: right;\">\n",
       "      <th></th>\n",
       "      <th>Created</th>\n",
       "      <th>Text</th>\n",
       "      <th>User</th>\n",
       "      <th>Company</th>\n",
       "      <th>Symbol</th>\n",
       "      <th>TwitterTerm</th>\n",
       "    </tr>\n",
       "  </thead>\n",
       "  <tbody>\n",
       "    <tr>\n",
       "      <th>0</th>\n",
       "      <td>2020-04-17</td>\n",
       "      <td>Thank you, @Walgreens pharmacists &amp;amp; pharma...</td>\n",
       "      <td>mackidcleeast</td>\n",
       "      <td>Walgreens Boots Alliance Inc.</td>\n",
       "      <td>WBA</td>\n",
       "      <td>@walgreens</td>\n",
       "    </tr>\n",
       "    <tr>\n",
       "      <th>1</th>\n",
       "      <td>2020-04-17</td>\n",
       "      <td>#Marvel Animated #Minimates Series 10 is avail...</td>\n",
       "      <td>CollectDST</td>\n",
       "      <td>Walgreens Boots Alliance Inc.</td>\n",
       "      <td>WBA</td>\n",
       "      <td>@walgreens</td>\n",
       "    </tr>\n",
       "    <tr>\n",
       "      <th>2</th>\n",
       "      <td>2020-04-17</td>\n",
       "      <td>Thank you, @Walgreens pharmacists &amp;amp; pharma...</td>\n",
       "      <td>MKMedinaOH</td>\n",
       "      <td>Walgreens Boots Alliance Inc.</td>\n",
       "      <td>WBA</td>\n",
       "      <td>@walgreens</td>\n",
       "    </tr>\n",
       "    <tr>\n",
       "      <th>3</th>\n",
       "      <td>2020-04-17</td>\n",
       "      <td>Okay so Houston announced new testing at @Walg...</td>\n",
       "      <td>s33ITbelieveIT</td>\n",
       "      <td>Walgreens Boots Alliance Inc.</td>\n",
       "      <td>WBA</td>\n",
       "      <td>@walgreens</td>\n",
       "    </tr>\n",
       "    <tr>\n",
       "      <th>4</th>\n",
       "      <td>2020-04-17</td>\n",
       "      <td>None of the employees I interacted with at @Wa...</td>\n",
       "      <td>VoteSamEdwards</td>\n",
       "      <td>Walgreens Boots Alliance Inc.</td>\n",
       "      <td>WBA</td>\n",
       "      <td>@walgreens</td>\n",
       "    </tr>\n",
       "  </tbody>\n",
       "</table>\n",
       "</div>"
      ],
      "text/plain": [
       "      Created                                               Text  \\\n",
       "0  2020-04-17  Thank you, @Walgreens pharmacists &amp; pharma...   \n",
       "1  2020-04-17  #Marvel Animated #Minimates Series 10 is avail...   \n",
       "2  2020-04-17  Thank you, @Walgreens pharmacists &amp; pharma...   \n",
       "3  2020-04-17  Okay so Houston announced new testing at @Walg...   \n",
       "4  2020-04-17  None of the employees I interacted with at @Wa...   \n",
       "\n",
       "             User                        Company Symbol TwitterTerm  \n",
       "0   mackidcleeast  Walgreens Boots Alliance Inc.    WBA  @walgreens  \n",
       "1      CollectDST  Walgreens Boots Alliance Inc.    WBA  @walgreens  \n",
       "2      MKMedinaOH  Walgreens Boots Alliance Inc.    WBA  @walgreens  \n",
       "3  s33ITbelieveIT  Walgreens Boots Alliance Inc.    WBA  @walgreens  \n",
       "4  VoteSamEdwards  Walgreens Boots Alliance Inc.    WBA  @walgreens  "
      ]
     },
     "execution_count": 7,
     "metadata": {},
     "output_type": "execute_result"
    }
   ],
   "source": [
    "TweetList_df.head()"
   ]
  },
  {
   "cell_type": "code",
   "execution_count": null,
   "metadata": {},
   "outputs": [],
   "source": []
  }
 ],
 "metadata": {
  "kernelspec": {
   "display_name": "Python 3",
   "language": "python",
   "name": "python3"
  },
  "language_info": {
   "codemirror_mode": {
    "name": "ipython",
    "version": 3
   },
   "file_extension": ".py",
   "mimetype": "text/x-python",
   "name": "python",
   "nbconvert_exporter": "python",
   "pygments_lexer": "ipython3",
   "version": "3.6.3"
  }
 },
 "nbformat": 4,
 "nbformat_minor": 2
}
