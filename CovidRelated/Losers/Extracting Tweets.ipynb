{
 "cells": [
  {
   "cell_type": "markdown",
   "metadata": {},
   "source": [
    "<h1 style=\"font-size:2.1em;\n",
    "           font-family: Calibri\n",
    "           padding: 20px;\n",
    "           margin: 20px;\n",
    "           height: 100px;\n",
    "           line-height: 100px;\n",
    "           align-items: center;\n",
    "           text-align: center;\n",
    "           border: 3px solid #006400;\n",
    "           background-color: #f1f1f1;\n",
    "           \"> Downloading Covid Related Tweets - NASDAQ Price Losers </h1>"
   ]
  },
  {
   "cell_type": "code",
   "execution_count": 1,
   "metadata": {},
   "outputs": [],
   "source": [
    "#import packages\n",
    "import quandl\n",
    "import pandas as pd\n",
    "import matplotlib.pyplot as plt\n",
    "import numpy as np\n",
    "import os\n",
    "from bs4 import BeautifulSoup\n",
    "\n",
    "\n",
    "from datetime import datetime, timedelta\n",
    "from bsi_sentiment.twitter import search_tweets_sn"
   ]
  },
  {
   "cell_type": "code",
   "execution_count": 2,
   "metadata": {},
   "outputs": [
    {
     "name": "stdout",
     "output_type": "stream",
     "text": [
      "['@united or UnitedAirlines or $UAL', '@Marriott or Marriot or $MAR', '@walgreens or Walgreens or $WBA', '@westerndigital or WesternDigital or $WDC', '@Exelon or Exelon or $EXC']\n",
      "['UAL', 'MAR', 'WBA', 'WDC', 'EXC']\n"
     ]
    }
   ],
   "source": [
    "ListOfTwitterHandles = pd.read_csv(os.path.join('./Data', 'TwitterHandles.csv'))\n",
    "print(ListOfTwitterHandles.TwitterHandle.to_list())\n",
    "print(ListOfTwitterHandles.Symbol.to_list())"
   ]
  },
  {
   "cell_type": "code",
   "execution_count": 3,
   "metadata": {},
   "outputs": [
    {
     "data": {
      "text/plain": [
       "['@united', 'UnitedAirlines', '$UAL']"
      ]
     },
     "execution_count": 3,
     "metadata": {},
     "output_type": "execute_result"
    }
   ],
   "source": [
    "[x.replace(\" \",\"\") for x in ListOfTwitterHandles.TwitterHandle[0].split('or')]"
   ]
  },
  {
   "cell_type": "markdown",
   "metadata": {},
   "source": [
    "## Extract the Tweets"
   ]
  },
  {
   "cell_type": "code",
   "execution_count": 8,
   "metadata": {},
   "outputs": [
    {
     "name": "stderr",
     "output_type": "stream",
     "text": [
      "\r",
      "Downloading tweets:   0%|                                                                 | 0/10000000 [00:00<?, ?it/s]"
     ]
    },
    {
     "name": "stdout",
     "output_type": "stream",
     "text": [
      "@united\n"
     ]
    },
    {
     "name": "stderr",
     "output_type": "stream",
     "text": [
      "Downloading tweets:   0%|                                                  | 7461/10000000 [01:04<23:55:21, 116.03it/s]\n",
      "Downloading tweets:   0%|                                                                 | 0/10000000 [00:00<?, ?it/s]"
     ]
    },
    {
     "name": "stdout",
     "output_type": "stream",
     "text": [
      "UnitedAirlines\n"
     ]
    },
    {
     "name": "stderr",
     "output_type": "stream",
     "text": [
      "Downloading tweets:   0%|                                                  | 1394/10000000 [00:12<24:57:05, 111.31it/s]\n",
      "Downloading tweets:   0%|                                                                 | 0/10000000 [00:00<?, ?it/s]"
     ]
    },
    {
     "name": "stdout",
     "output_type": "stream",
     "text": [
      "$UAL\n"
     ]
    },
    {
     "name": "stderr",
     "output_type": "stream",
     "text": [
      "Downloading tweets:   0%|                                                  | 2316/10000000 [00:19<23:07:14, 120.11it/s]\n",
      "Downloading tweets:   0%|                                                                 | 0/10000000 [00:00<?, ?it/s]"
     ]
    },
    {
     "name": "stdout",
     "output_type": "stream",
     "text": [
      "@Marriott\n"
     ]
    },
    {
     "name": "stderr",
     "output_type": "stream",
     "text": [
      "Downloading tweets:   0%|                                                  | 3600/10000000 [00:34<26:48:17, 103.59it/s]\n",
      "Downloading tweets:   0%|                                                                 | 0/10000000 [00:00<?, ?it/s]"
     ]
    },
    {
     "name": "stdout",
     "output_type": "stream",
     "text": [
      "Marriot\n"
     ]
    },
    {
     "name": "stderr",
     "output_type": "stream",
     "text": [
      "Downloading tweets:   0%|                                                  | 1178/10000000 [00:09<23:05:05, 120.32it/s]\n",
      "Downloading tweets:   0%|                                                                 | 0/10000000 [00:00<?, ?it/s]"
     ]
    },
    {
     "name": "stdout",
     "output_type": "stream",
     "text": [
      "$MAR\n"
     ]
    },
    {
     "name": "stderr",
     "output_type": "stream",
     "text": [
      "Downloading tweets:   0%|                                                   | 916/10000000 [00:07<23:35:51, 117.70it/s]\n",
      "Downloading tweets:   0%|                                                                 | 0/10000000 [00:00<?, ?it/s]"
     ]
    },
    {
     "name": "stdout",
     "output_type": "stream",
     "text": [
      "@walgreens\n"
     ]
    },
    {
     "name": "stderr",
     "output_type": "stream",
     "text": [
      "Downloading tweets:   0%|                                                  | 2538/10000000 [00:24<27:09:56, 102.23it/s]\n",
      "Downloading tweets:   0%|                                                                 | 0/10000000 [00:00<?, ?it/s]"
     ]
    },
    {
     "name": "stdout",
     "output_type": "stream",
     "text": [
      "Walgreens\n"
     ]
    },
    {
     "name": "stderr",
     "output_type": "stream",
     "text": [
      "Downloading tweets:   0%|                                                 | 18162/10000000 [02:42<24:50:23, 111.62it/s]\n",
      "Downloading tweets:   0%|                                                                 | 0/10000000 [00:00<?, ?it/s]"
     ]
    },
    {
     "name": "stdout",
     "output_type": "stream",
     "text": [
      "$WBA\n"
     ]
    },
    {
     "name": "stderr",
     "output_type": "stream",
     "text": [
      "Downloading tweets:   0%|                                                   | 775/10000000 [00:06<24:52:33, 111.66it/s]\n",
      "Downloading tweets:   0%|                                                                 | 0/10000000 [00:00<?, ?it/s]"
     ]
    },
    {
     "name": "stdout",
     "output_type": "stream",
     "text": [
      "@westerndigital\n"
     ]
    },
    {
     "name": "stderr",
     "output_type": "stream",
     "text": [
      "Downloading tweets:   0%|                                                    | 360/10000000 [00:04<36:03:40, 77.03it/s]\n",
      "Downloading tweets:   0%|                                                                 | 0/10000000 [00:00<?, ?it/s]"
     ]
    },
    {
     "name": "stdout",
     "output_type": "stream",
     "text": [
      "WesternDigital\n"
     ]
    },
    {
     "name": "stderr",
     "output_type": "stream",
     "text": [
      "Downloading tweets:   0%|                                                    | 521/10000000 [00:06<35:11:20, 78.93it/s]\n",
      "Downloading tweets:   0%|                                                                 | 0/10000000 [00:00<?, ?it/s]"
     ]
    },
    {
     "name": "stdout",
     "output_type": "stream",
     "text": [
      "$WDC\n"
     ]
    },
    {
     "name": "stderr",
     "output_type": "stream",
     "text": [
      "Downloading tweets:   0%|                                                    | 395/10000000 [00:04<31:11:53, 89.03it/s]\n",
      "Downloading tweets:   0%|                                                                 | 0/10000000 [00:00<?, ?it/s]"
     ]
    },
    {
     "name": "stdout",
     "output_type": "stream",
     "text": [
      "@Exelon\n"
     ]
    },
    {
     "name": "stderr",
     "output_type": "stream",
     "text": [
      "Downloading tweets:   0%|                                                    | 113/10000000 [00:02<53:09:29, 52.25it/s]\n",
      "Downloading tweets:   0%|                                                                 | 0/10000000 [00:00<?, ?it/s]"
     ]
    },
    {
     "name": "stdout",
     "output_type": "stream",
     "text": [
      "Exelon\n"
     ]
    },
    {
     "name": "stderr",
     "output_type": "stream",
     "text": [
      "Downloading tweets:   0%|                                                    | 449/10000000 [00:05<31:23:52, 88.47it/s]\n",
      "Downloading tweets:   0%|                                                                 | 0/10000000 [00:00<?, ?it/s]"
     ]
    },
    {
     "name": "stdout",
     "output_type": "stream",
     "text": [
      "$EXC\n"
     ]
    },
    {
     "name": "stderr",
     "output_type": "stream",
     "text": [
      "Downloading tweets:   0%|                                                    | 241/10000000 [00:02<34:24:44, 80.72it/s]\n"
     ]
    }
   ],
   "source": [
    "#Directory = r\"\\\\gibfs1\\Profiles\\Redirection\\s.khanbhai\\Documents\\GitHub\\FamilyTree\\Twitter-Stock-Analysis\\CovidRelated\\Losers\"\n",
    "Handles = ['UAL', 'MAR', 'WBA', 'WDC', 'EXC']\n",
    "\n",
    "for i, HandleList in enumerate(Handles):\n",
    "    TweetList_df = pd.DataFrame([])\n",
    "    for Term in [x.replace(\" \",\"\") for x in ListOfTwitterHandles.TwitterHandle[i].split('or')]:        \n",
    "        print(Term)\n",
    "        tweets = search_tweets_sn(\n",
    "        q = str(Term),\n",
    "        since = \"2020-02-19\",\n",
    "        until=\"2020-03-19\",\n",
    "        lang=\"en\",\n",
    "        max_tweets=10000000\n",
    "        )\n",
    "\n",
    "        TweetList_df = TweetList_df.append(pd.DataFrame(\n",
    "            [[tweet.date, tweet.text, tweet.username, ListOfTwitterHandles.Company[i], ListOfTwitterHandles.Symbol[i], Term] for tweet in tweets], \n",
    "            columns= ['Created','Text','User', 'Company', 'Symbol', 'TwitterTerm']\n",
    "            ))\n",
    "    #Tweetlist_BSI_df = Tweetlist_BSI_df.append(Tweetlist)\n",
    "    \n",
    "    \n",
    "    TweetList_df.to_csv(os.path.join('./Data',\n",
    "                                  'CompanyTweets',\n",
    "                                  f'Tweets {ListOfTwitterHandles.Symbol[i]} 20200219 to 20200319.csv'), index=False) "
   ]
  },
  {
   "cell_type": "code",
   "execution_count": 10,
   "metadata": {},
   "outputs": [
    {
     "data": {
      "text/html": [
       "<div>\n",
       "<style scoped>\n",
       "    .dataframe tbody tr th:only-of-type {\n",
       "        vertical-align: middle;\n",
       "    }\n",
       "\n",
       "    .dataframe tbody tr th {\n",
       "        vertical-align: top;\n",
       "    }\n",
       "\n",
       "    .dataframe thead th {\n",
       "        text-align: right;\n",
       "    }\n",
       "</style>\n",
       "<table border=\"1\" class=\"dataframe\">\n",
       "  <thead>\n",
       "    <tr style=\"text-align: right;\">\n",
       "      <th></th>\n",
       "      <th>Created</th>\n",
       "      <th>Text</th>\n",
       "      <th>User</th>\n",
       "      <th>Company</th>\n",
       "      <th>Symbol</th>\n",
       "      <th>TwitterTerm</th>\n",
       "    </tr>\n",
       "  </thead>\n",
       "  <tbody>\n",
       "    <tr>\n",
       "      <th>0</th>\n",
       "      <td>2020-03-18</td>\n",
       "      <td>Inspired by the community commitment of our pa...</td>\n",
       "      <td>CJInMktg</td>\n",
       "      <td>Exelon Corp.</td>\n",
       "      <td>EXC</td>\n",
       "      <td>@Exelon</td>\n",
       "    </tr>\n",
       "    <tr>\n",
       "      <th>1</th>\n",
       "      <td>2020-03-18</td>\n",
       "      <td>We’re joining @Exelon and @Constellation to do...</td>\n",
       "      <td>MyBGE</td>\n",
       "      <td>Exelon Corp.</td>\n",
       "      <td>EXC</td>\n",
       "      <td>@Exelon</td>\n",
       "    </tr>\n",
       "    <tr>\n",
       "      <th>2</th>\n",
       "      <td>2020-03-18</td>\n",
       "      <td>\"The @RedCross is proud to count @Exelon as a ...</td>\n",
       "      <td>Exelon</td>\n",
       "      <td>Exelon Corp.</td>\n",
       "      <td>EXC</td>\n",
       "      <td>@Exelon</td>\n",
       "    </tr>\n",
       "    <tr>\n",
       "      <th>3</th>\n",
       "      <td>2020-03-18</td>\n",
       "      <td>Young women in 10th or 11th grade can apply to...</td>\n",
       "      <td>MDCleanEnergy</td>\n",
       "      <td>Exelon Corp.</td>\n",
       "      <td>EXC</td>\n",
       "      <td>@Exelon</td>\n",
       "    </tr>\n",
       "    <tr>\n",
       "      <th>4</th>\n",
       "      <td>2020-03-18</td>\n",
       "      <td>\"BGE Donates to Local Nonprofits for Coronavir...</td>\n",
       "      <td>AAEDC</td>\n",
       "      <td>Exelon Corp.</td>\n",
       "      <td>EXC</td>\n",
       "      <td>@Exelon</td>\n",
       "    </tr>\n",
       "  </tbody>\n",
       "</table>\n",
       "</div>"
      ],
      "text/plain": [
       "      Created                                               Text  \\\n",
       "0  2020-03-18  Inspired by the community commitment of our pa...   \n",
       "1  2020-03-18  We’re joining @Exelon and @Constellation to do...   \n",
       "2  2020-03-18  \"The @RedCross is proud to count @Exelon as a ...   \n",
       "3  2020-03-18  Young women in 10th or 11th grade can apply to...   \n",
       "4  2020-03-18  \"BGE Donates to Local Nonprofits for Coronavir...   \n",
       "\n",
       "            User       Company Symbol TwitterTerm  \n",
       "0       CJInMktg  Exelon Corp.    EXC     @Exelon  \n",
       "1          MyBGE  Exelon Corp.    EXC     @Exelon  \n",
       "2         Exelon  Exelon Corp.    EXC     @Exelon  \n",
       "3  MDCleanEnergy  Exelon Corp.    EXC     @Exelon  \n",
       "4          AAEDC  Exelon Corp.    EXC     @Exelon  "
      ]
     },
     "execution_count": 10,
     "metadata": {},
     "output_type": "execute_result"
    }
   ],
   "source": [
    "TweetList_df.head()"
   ]
  },
  {
   "cell_type": "code",
   "execution_count": null,
   "metadata": {},
   "outputs": [],
   "source": []
  }
 ],
 "metadata": {
  "kernelspec": {
   "display_name": "Python 3",
   "language": "python",
   "name": "python3"
  },
  "language_info": {
   "codemirror_mode": {
    "name": "ipython",
    "version": 3
   },
   "file_extension": ".py",
   "mimetype": "text/x-python",
   "name": "python",
   "nbconvert_exporter": "python",
   "pygments_lexer": "ipython3",
   "version": "3.7.3"
  }
 },
 "nbformat": 4,
 "nbformat_minor": 2
}
