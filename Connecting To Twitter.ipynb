{
 "cells": [
  {
   "cell_type": "markdown",
   "metadata": {},
   "source": [
    "# Connecting to Twitter Data"
   ]
  },
  {
   "cell_type": "code",
   "execution_count": 1,
   "metadata": {},
   "outputs": [],
   "source": [
    "import twitter\n",
    "\n",
    "# API connection info\n",
    "api = twitter.Api(consumer_key='wo8zaKiCllNXcO5HGRn6SyAH2',\n",
    "  consumer_secret='ssGUKQiJZJx8sPvzzRZ1eB5SGEDGoaAUcja0hbe3kHnUEJ0ONY',\n",
    "    access_token_key='271594512-AljWPYGOwNJ8uiau4dkgcc5PRFqP3da2RopWkPSy',\n",
    "    access_token_secret='s4J9ljo0AcFREw2J3tkWjlQu0IEyu1YLWjBdZaKQHasAP')"
   ]
  },
  {
   "cell_type": "code",
   "execution_count": 2,
   "metadata": {},
   "outputs": [
    {
     "name": "stdout",
     "output_type": "stream",
     "text": [
      "{\"created_at\": \"Thu Mar 24 20:40:07 +0000 2011\", \"default_profile\": true, \"favourites_count\": 5, \"followers_count\": 16, \"friends_count\": 27, \"id\": 271594512, \"id_str\": \"271594512\", \"name\": \"Saqib Khanbhai\", \"profile_background_color\": \"C0DEED\", \"profile_background_image_url\": \"http://abs.twimg.com/images/themes/theme1/bg.png\", \"profile_background_image_url_https\": \"https://abs.twimg.com/images/themes/theme1/bg.png\", \"profile_image_url\": \"http://pbs.twimg.com/profile_images/2304395769/v9b06rrtcj7w192t6fnb_normal.jpeg\", \"profile_image_url_https\": \"https://pbs.twimg.com/profile_images/2304395769/v9b06rrtcj7w192t6fnb_normal.jpeg\", \"profile_link_color\": \"1DA1F2\", \"profile_sidebar_border_color\": \"C0DEED\", \"profile_sidebar_fill_color\": \"DDEEF6\", \"profile_text_color\": \"333333\", \"profile_use_background_image\": true, \"screen_name\": \"Saqib_91\", \"status\": {\"created_at\": \"Fri May 02 21:51:53 +0000 2014\", \"favorite_count\": 3, \"id\": 462348780482736128, \"id_str\": \"462348780482736128\", \"lang\": \"en\", \"retweet_count\": 1, \"source\": \"<a href=\\\"https://dev.twitter.com/docs/tfw\\\" rel=\\\"nofollow\\\">Twitter for Websites</a>\", \"text\": \"Fundraiser profile page - BT MyDonate https://t.co/KXwII125nl\"}, \"statuses_count\": 9}\n"
     ]
    }
   ],
   "source": [
    "print(api.VerifyCredentials())"
   ]
  },
  {
   "cell_type": "code",
   "execution_count": 12,
   "metadata": {},
   "outputs": [
    {
     "name": "stdout",
     "output_type": "stream",
     "text": [
      "['25, wow! I am surprised there are so many. We have just begun to fight. Please send me a list of the 25 RINOS. I re… https://t.co/rTlToqblE4', 'I will easily &amp; quickly win Georgia if Governor @BrianKempGA or the Secretary of State permit a simple signature ve… https://t.co/EqGqoagFka', 'See you tonight at 7PM, Georgia! https://t.co/gMYtLGGqzI', 'RT @realDonaldTrump: https://t.co/AMIT0WetT1', 'RT @realDonaldTrump: https://t.co/vdaaFDn2Xi', 'RT @RobertCahaly: Our @trafalgar_group #GASen #Runoff #Polls also shed some light on Georgia voters opinions of whether the #Presidential e…', 'https://t.co/ouGhtnhwGG', 'https://t.co/cYj73a5fiR', 'https://t.co/yV62397bgs', 'https://t.co/AMIT0WetT1', 'RT @realDonaldTrump: Watch @SeanHannity tonight at 9:00 P.M. Eastern — story on Voter Fraud!', 'https://t.co/VTNYa5vaG7', 'See you tomorrow night at 7PM, Valdosta, Georgia! https://t.co/Or9WioLiVk', 'https://t.co/vdaaFDn2Xi', 'Thank you to Senate President Karen Fann and House Speaker Russell Bowers – and all, for what you are doing in Ariz… https://t.co/HA1ceurGyk', 'Watch @SeanHannity tonight at 9:00 P.M. Eastern — story on Voter Fraud!', 'STOCK MARKET REACHES NEW ALL-TIME HIGH!', 'RT @HawleyMO: This case raises major questions about the legality of Pennsylvania’s mail-in balloting changes. The Supreme Court should hea…', 'RT @HawleyMO: The President is right', 'RT @HawleyMO: The NDAA does NOT contain any reform to Section 230 but DOES contain Elizabeth Warren’s social engineering amendment to unila…']\n"
     ]
    }
   ],
   "source": [
    "statuses = api.GetUserTimeline(screen_name='realDonaldTrump')\n",
    "print([s.text for s in statuses])"
   ]
  },
  {
   "cell_type": "code",
   "execution_count": 13,
   "metadata": {},
   "outputs": [
    {
     "data": {
      "text/plain": [
       "20"
      ]
     },
     "execution_count": 13,
     "metadata": {},
     "output_type": "execute_result"
    }
   ],
   "source": [
    "len(statuses)"
   ]
  },
  {
   "cell_type": "code",
   "execution_count": null,
   "metadata": {},
   "outputs": [],
   "source": []
  }
 ],
 "metadata": {
  "kernelspec": {
   "display_name": "Python 3",
   "language": "python",
   "name": "python3"
  },
  "language_info": {
   "codemirror_mode": {
    "name": "ipython",
    "version": 3
   },
   "file_extension": ".py",
   "mimetype": "text/x-python",
   "name": "python",
   "nbconvert_exporter": "python",
   "pygments_lexer": "ipython3",
   "version": "3.6.3"
  }
 },
 "nbformat": 4,
 "nbformat_minor": 2
}
