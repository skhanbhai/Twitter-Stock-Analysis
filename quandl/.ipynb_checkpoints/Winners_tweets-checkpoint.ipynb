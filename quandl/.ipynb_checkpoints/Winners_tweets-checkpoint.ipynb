{
 "cells": [
  {
   "cell_type": "code",
   "execution_count": 52,
   "metadata": {},
   "outputs": [],
   "source": [
    "#import packages\n",
    "import quandl\n",
    "import pandas as pd\n",
    "import matplotlib.pyplot as plt\n",
    "import numpy as np\n",
    "import os\n",
    "from bs4 import BeautifulSoup\n",
    "\n",
    "\n",
    "from datetime import datetime, timedelta\n",
    "from bsi_sentiment.twitter import search_tweets_sn"
   ]
  },
  {
   "cell_type": "code",
   "execution_count": 53,
   "metadata": {},
   "outputs": [],
   "source": [
    "with open(\"nasdaq100.html\", encoding='utf8') as file_reader:\n",
    "    soup = BeautifulSoup(file_reader, \"lxml\")"
   ]
  },
  {
   "cell_type": "code",
   "execution_count": 49,
   "metadata": {
    "scrolled": true
   },
   "outputs": [],
   "source": [
    "#print(soup.prettify())"
   ]
  },
  {
   "cell_type": "code",
   "execution_count": 50,
   "metadata": {},
   "outputs": [],
   "source": [
    "#soup.find_all(\"td\", attrs = {\"data-x\":\"4\"})"
   ]
  },
  {
   "cell_type": "code",
   "execution_count": 54,
   "metadata": {},
   "outputs": [
    {
     "name": "stdout",
     "output_type": "stream",
     "text": [
      "['AAL', 'AAPL', 'ADBE', 'ADI', 'ADP', 'ADSK', 'ALXN', 'AMAT', 'AMGN', 'AMZN', 'ATVI', 'AVGO', 'BIDU', 'BIIB', 'BMRN', 'CDNS', 'CERN', 'CHKP', 'CHTR', 'CMCSA', 'COST', 'CSCO', 'CSX', 'CTAS', 'TCOM', 'CTSH', 'CTXS', 'DLTR', 'EA', 'EBAY', 'EXPE', 'FAST', 'FB', 'FISV', 'FOX', 'FOXA', 'GILD', 'GOOG', 'GOOGL', 'IDXX', 'ILMN', 'INCY', 'INTC', 'INTU', 'ISRG', 'JD', 'KHC', 'KLAC', 'LBTYA', 'LBTYK', 'LRCX', 'MAR', 'MCHP', 'MDLZ', 'MNST', 'MSFT', 'MU', 'MXIM', 'NFLX', 'NTAP', 'NTES', 'NVDA', 'NXPI', 'ORLY', 'PAYX', 'PCAR', 'BKNG', 'PYPL', 'QCOM', 'REGN', 'ROST', 'SBUX', 'SIRI', 'SNPS', 'SWKS', 'TMUS', 'TSLA', 'TXN', 'ULTA', 'VRSK', 'VRSN', 'VRTX', 'WBA', 'WDC', 'XLNX', 'MELI', 'WDAY', 'TTWO', 'ASML', 'ALGN', 'PEP', 'AMD', 'LULU', 'UAL', 'WLTW', 'XEL', 'EXC', 'SPLK', 'CSGP', 'ANSS', 'CPRT', 'CDW', 'SGEN']\n"
     ]
    }
   ],
   "source": [
    "company_listings = []\n",
    "for idx in range(len(soup.find_all(\"td\", attrs = {\"data-x\":\"4\"}))):\n",
    "    if soup.find_all(\"td\", attrs = {\"data-x\":\"4\"})[idx]['data-order'] == \"X\":\n",
    "        company_listings.append(soup.find_all(\"td\", attrs = {\"data-x\":\"0\"})[idx]['data-order'])\n",
    "print(company_listings)"
   ]
  },
  {
   "cell_type": "code",
   "execution_count": 55,
   "metadata": {
    "scrolled": true
   },
   "outputs": [],
   "source": [
    "#get a company's ticker using a key\n",
    "quandl.ApiConfig.api_key = 'LjVzy1VC64LF83o8h-Ko'\n",
    "\n",
    "#Get list of tickers\n",
    "ticker = pd.read_csv('ticker_list.csv')"
   ]
  },
  {
   "cell_type": "code",
   "execution_count": 56,
   "metadata": {
    "scrolled": true
   },
   "outputs": [],
   "source": [
    "#I suspect NASDAQ stocks wil be, on average, more sensitive to Twitter sentiment than \"traditional\" companies on NYSE, SP500, etc\n",
    "nasdaq = ticker[ticker[\"Exchange\"] == \"NASDAQ\"].reset_index(drop = True)\n",
    "nasdaq100 = nasdaq[nasdaq['Ticker'].isin(company_listings)].reset_index(drop = True)"
   ]
  },
  {
   "cell_type": "code",
   "execution_count": 13,
   "metadata": {},
   "outputs": [],
   "source": [
    "# list of all NASDAQ 100 stocks (EOY 2016) in Quandl's NASDAQ database\n",
    "# list(nasdaq100['Ticker'])\n",
    "\n",
    "# list of companies in NASDAQ 100 (EOY 2016) not in Quandl's NASDAQ database\n",
    "# set(list(nasdaq100['Ticker'])) ^ set(company_listings)\n"
   ]
  },
  {
   "cell_type": "code",
   "execution_count": 14,
   "metadata": {},
   "outputs": [],
   "source": [
    "#graphs of all NASDAQ 100 companies\n",
    "#for code in nasdaq100[\"Quandl_Code\"]:\n",
    "#    company = quandl.get(code, start_date='2016-12-31', end_date='2020-12-31')\n",
    "#    plt.plot(company[\"Open\"])\n",
    "#    plt.title(nasdaq100[nasdaq100[\"Quandl_Code\"] == code].reset_index(drop = True)[\"Name\"][0])\n",
    "#    plt.show()"
   ]
  },
  {
   "cell_type": "code",
   "execution_count": 12,
   "metadata": {},
   "outputs": [
    {
     "data": {
      "text/plain": [
       "['MSFT', 'AMZN', 'TSLA']"
      ]
     },
     "execution_count": 12,
     "metadata": {},
     "output_type": "execute_result"
    }
   ],
   "source": [
    "#Directory = r\"C:\\Users\\Owner\\Documents\\git\\Twitter-Stock-Analysis\\quandl\"\n",
    "\n",
    "# ListOfTwitterHandles = pd.read_csv(os.path.join(Directory, 'Twitter Analysis', 'TwitterHandles.csv'))\n",
    "ListOfTwitterHandles = pd.read_csv('TwitterHandles.csv')\n",
    "ListOfTwitterHandles.Symbol.to_list()"
   ]
  },
  {
   "cell_type": "code",
   "execution_count": null,
   "metadata": {},
   "outputs": [],
   "source": [
    "#Moderna, PayPal, Zoom"
   ]
  },
  {
   "cell_type": "code",
   "execution_count": 26,
   "metadata": {},
   "outputs": [
    {
     "name": "stderr",
     "output_type": "stream",
     "text": [
      "Downloading tweets: 100%|██████████| 1000/1000 [00:09<00:00, 103.84it/s]\n",
      "Downloading tweets: 100%|██████████| 1000/1000 [00:09<00:00, 102.10it/s]\n",
      "Downloading tweets: 100%|██████████| 1000/1000 [00:08<00:00, 111.85it/s]\n"
     ]
    }
   ],
   "source": [
    "#Handles = ['AAPL', 'MSFT', 'AMZN', 'TSLA', 'FB', 'GOOG', 'NVDA', 'PYPL', 'NFLX', 'INTC']\n",
    "Handles = ['MSFT', 'AMZN', 'TSLA']\n",
    "Tweetlist_BSI_df = pd.DataFrame()\n",
    "for i, Handle in enumerate(Handles):\n",
    "    tweets = search_tweets_sn(\n",
    "    q = str(Handle),\n",
    "    since = \"2020-02-19\",\n",
    "    until=\"2020-03-19\",\n",
    "    lang=\"en\",\n",
    "    max_tweets=10000000\n",
    "    )\n",
    "    \n",
    "    Tweetlist = pd.DataFrame(\n",
    "        [[tweet.date, tweet.text, tweet.username, ListOfTwitterHandles.Company[i], ListOfTwitterHandles.Symbol[i], ListOfTwitterHandles.TwitterHandle1[i]] for tweet in tweets], \n",
    "        columns= ['Created','Text','User', 'Company', 'Symbol', 'TwitterHandle']\n",
    "    )\n",
    "    #Tweetlist_BSI_df = Tweetlist_BSI_df.append(Tweetlist)\n",
    "    \n",
    "    #Tweetlist.to_csv(os.path.join(Directory, 'Twitter Analysis'))\n",
    "    Tweetlist.to_csv(str(Handle) + \"_tweets.csv\")"
   ]
  },
  {
   "cell_type": "code",
   "execution_count": 27,
   "metadata": {},
   "outputs": [
    {
     "data": {
      "text/html": [
       "<div>\n",
       "<style scoped>\n",
       "    .dataframe tbody tr th:only-of-type {\n",
       "        vertical-align: middle;\n",
       "    }\n",
       "\n",
       "    .dataframe tbody tr th {\n",
       "        vertical-align: top;\n",
       "    }\n",
       "\n",
       "    .dataframe thead th {\n",
       "        text-align: right;\n",
       "    }\n",
       "</style>\n",
       "<table border=\"1\" class=\"dataframe\">\n",
       "  <thead>\n",
       "    <tr style=\"text-align: right;\">\n",
       "      <th></th>\n",
       "      <th>Unnamed: 0</th>\n",
       "      <th>Created</th>\n",
       "      <th>Text</th>\n",
       "      <th>User</th>\n",
       "      <th>Company</th>\n",
       "      <th>Symbol</th>\n",
       "      <th>TwitterHandle</th>\n",
       "    </tr>\n",
       "  </thead>\n",
       "  <tbody>\n",
       "    <tr>\n",
       "      <th>0</th>\n",
       "      <td>0</td>\n",
       "      <td>2020-03-31</td>\n",
       "      <td>UPDATE 2-Independent worker group calls for Wh...</td>\n",
       "      <td>newsfilterio</td>\n",
       "      <td>Amazon.com Inc</td>\n",
       "      <td>AMZN</td>\n",
       "      <td>@amazon</td>\n",
       "    </tr>\n",
       "    <tr>\n",
       "      <th>1</th>\n",
       "      <td>1</td>\n",
       "      <td>2020-03-31</td>\n",
       "      <td>The Staten Island worker who was fired, Christ...</td>\n",
       "      <td>Bruno_J_Navarro</td>\n",
       "      <td>Amazon.com Inc</td>\n",
       "      <td>AMZN</td>\n",
       "      <td>@amazon</td>\n",
       "    </tr>\n",
       "    <tr>\n",
       "      <th>2</th>\n",
       "      <td>2</td>\n",
       "      <td>2020-03-31</td>\n",
       "      <td>#TheMediaKnowsNothing. Turn off the TV,  Follo...</td>\n",
       "      <td>Upticken</td>\n",
       "      <td>Amazon.com Inc</td>\n",
       "      <td>AMZN</td>\n",
       "      <td>@amazon</td>\n",
       "    </tr>\n",
       "    <tr>\n",
       "      <th>3</th>\n",
       "      <td>3</td>\n",
       "      <td>2020-03-31</td>\n",
       "      <td>Secretive big data company Palantir is reporte...</td>\n",
       "      <td>HPTarget</td>\n",
       "      <td>Amazon.com Inc</td>\n",
       "      <td>AMZN</td>\n",
       "      <td>@amazon</td>\n",
       "    </tr>\n",
       "    <tr>\n",
       "      <th>4</th>\n",
       "      <td>4</td>\n",
       "      <td>2020-03-31</td>\n",
       "      <td>Secretive big data company Palantir is reporte...</td>\n",
       "      <td>winsontang</td>\n",
       "      <td>Amazon.com Inc</td>\n",
       "      <td>AMZN</td>\n",
       "      <td>@amazon</td>\n",
       "    </tr>\n",
       "    <tr>\n",
       "      <th>5</th>\n",
       "      <td>5</td>\n",
       "      <td>2020-03-31</td>\n",
       "      <td>Business Insider - Secretive big data company ...</td>\n",
       "      <td>theluckyman</td>\n",
       "      <td>Amazon.com Inc</td>\n",
       "      <td>AMZN</td>\n",
       "      <td>@amazon</td>\n",
       "    </tr>\n",
       "    <tr>\n",
       "      <th>6</th>\n",
       "      <td>6</td>\n",
       "      <td>2020-03-31</td>\n",
       "      <td>Will be looking for $amzn short setup tomorrow...</td>\n",
       "      <td>easycomeeasygo</td>\n",
       "      <td>Amazon.com Inc</td>\n",
       "      <td>AMZN</td>\n",
       "      <td>@amazon</td>\n",
       "    </tr>\n",
       "    <tr>\n",
       "      <th>7</th>\n",
       "      <td>7</td>\n",
       "      <td>2020-03-31</td>\n",
       "      <td>This Chart Shows E-Commerce Winners, Losers Du...</td>\n",
       "      <td>Benzinga</td>\n",
       "      <td>Amazon.com Inc</td>\n",
       "      <td>AMZN</td>\n",
       "      <td>@amazon</td>\n",
       "    </tr>\n",
       "    <tr>\n",
       "      <th>8</th>\n",
       "      <td>8</td>\n",
       "      <td>2020-03-31</td>\n",
       "      <td>Independent worker group calls for Whole Foods...</td>\n",
       "      <td>newsfilterio</td>\n",
       "      <td>Amazon.com Inc</td>\n",
       "      <td>AMZN</td>\n",
       "      <td>@amazon</td>\n",
       "    </tr>\n",
       "    <tr>\n",
       "      <th>9</th>\n",
       "      <td>9</td>\n",
       "      <td>2020-03-31</td>\n",
       "      <td>𝗪𝗵𝗲𝗿𝗲 𝗱𝗼 𝘆𝗼𝘂 𝗹𝗶𝗸𝗲 𝘁𝗼 𝘀𝗵𝗼𝗽 𝗺𝗼𝗿𝗲? 🛒🍲🍓🥖🥩\\n\\nWalma...</td>\n",
       "      <td>ForexinWorld</td>\n",
       "      <td>Amazon.com Inc</td>\n",
       "      <td>AMZN</td>\n",
       "      <td>@amazon</td>\n",
       "    </tr>\n",
       "    <tr>\n",
       "      <th>10</th>\n",
       "      <td>10</td>\n",
       "      <td>2020-03-31</td>\n",
       "      <td>Amazon and Microsoft actually ended the first ...</td>\n",
       "      <td>newsfilterio</td>\n",
       "      <td>Amazon.com Inc</td>\n",
       "      <td>AMZN</td>\n",
       "      <td>@amazon</td>\n",
       "    </tr>\n",
       "    <tr>\n",
       "      <th>11</th>\n",
       "      <td>11</td>\n",
       "      <td>2020-03-31</td>\n",
       "      <td>If you're looking for contractor bags on $AMZN...</td>\n",
       "      <td>QuisitiveInvest</td>\n",
       "      <td>Amazon.com Inc</td>\n",
       "      <td>AMZN</td>\n",
       "      <td>@amazon</td>\n",
       "    </tr>\n",
       "    <tr>\n",
       "      <th>12</th>\n",
       "      <td>12</td>\n",
       "      <td>2020-03-31</td>\n",
       "      <td>We’re very close to the day where Alexa takes ...</td>\n",
       "      <td>4Awesometweet</td>\n",
       "      <td>Amazon.com Inc</td>\n",
       "      <td>AMZN</td>\n",
       "      <td>@amazon</td>\n",
       "    </tr>\n",
       "    <tr>\n",
       "      <th>13</th>\n",
       "      <td>13</td>\n",
       "      <td>2020-03-31</td>\n",
       "      <td>1900 PIPS Profit so far🔥🔥\\n\\nFor Free Signals,...</td>\n",
       "      <td>cryptoexp74145F</td>\n",
       "      <td>Amazon.com Inc</td>\n",
       "      <td>AMZN</td>\n",
       "      <td>@amazon</td>\n",
       "    </tr>\n",
       "    <tr>\n",
       "      <th>14</th>\n",
       "      <td>14</td>\n",
       "      <td>2020-03-31</td>\n",
       "      <td>$AMZN not a bad looking monthly chart. https:/...</td>\n",
       "      <td>RitchPhil</td>\n",
       "      <td>Amazon.com Inc</td>\n",
       "      <td>AMZN</td>\n",
       "      <td>@amazon</td>\n",
       "    </tr>\n",
       "    <tr>\n",
       "      <th>15</th>\n",
       "      <td>15</td>\n",
       "      <td>2020-03-31</td>\n",
       "      <td>Welcome to New York $AMZN https://t.co/QSngwsi...</td>\n",
       "      <td>ReishBit</td>\n",
       "      <td>Amazon.com Inc</td>\n",
       "      <td>AMZN</td>\n",
       "      <td>@amazon</td>\n",
       "    </tr>\n",
       "    <tr>\n",
       "      <th>16</th>\n",
       "      <td>16</td>\n",
       "      <td>2020-03-31</td>\n",
       "      <td>With strikes and a 'sick out,' some grocery an...</td>\n",
       "      <td>newsfilterio</td>\n",
       "      <td>Amazon.com Inc</td>\n",
       "      <td>AMZN</td>\n",
       "      <td>@amazon</td>\n",
       "    </tr>\n",
       "    <tr>\n",
       "      <th>17</th>\n",
       "      <td>17</td>\n",
       "      <td>2020-03-31</td>\n",
       "      <td>Netflix, others are market bright spots after ...</td>\n",
       "      <td>JorelLaraKalel</td>\n",
       "      <td>Amazon.com Inc</td>\n",
       "      <td>AMZN</td>\n",
       "      <td>@amazon</td>\n",
       "    </tr>\n",
       "    <tr>\n",
       "      <th>18</th>\n",
       "      <td>18</td>\n",
       "      <td>2020-03-31</td>\n",
       "      <td>Strikes @ Amazon &amp;amp; Whole Foods were  DAMP ...</td>\n",
       "      <td>StopJeff1</td>\n",
       "      <td>Amazon.com Inc</td>\n",
       "      <td>AMZN</td>\n",
       "      <td>@amazon</td>\n",
       "    </tr>\n",
       "    <tr>\n",
       "      <th>19</th>\n",
       "      <td>19</td>\n",
       "      <td>2020-03-31</td>\n",
       "      <td>Amazon (AMZN) Issues FBA Fee Waiver to Stoke S...</td>\n",
       "      <td>ASOIideas</td>\n",
       "      <td>Amazon.com Inc</td>\n",
       "      <td>AMZN</td>\n",
       "      <td>@amazon</td>\n",
       "    </tr>\n",
       "  </tbody>\n",
       "</table>\n",
       "</div>"
      ],
      "text/plain": [
       "    Unnamed: 0     Created                                               Text  \\\n",
       "0            0  2020-03-31  UPDATE 2-Independent worker group calls for Wh...   \n",
       "1            1  2020-03-31  The Staten Island worker who was fired, Christ...   \n",
       "2            2  2020-03-31  #TheMediaKnowsNothing. Turn off the TV,  Follo...   \n",
       "3            3  2020-03-31  Secretive big data company Palantir is reporte...   \n",
       "4            4  2020-03-31  Secretive big data company Palantir is reporte...   \n",
       "5            5  2020-03-31  Business Insider - Secretive big data company ...   \n",
       "6            6  2020-03-31  Will be looking for $amzn short setup tomorrow...   \n",
       "7            7  2020-03-31  This Chart Shows E-Commerce Winners, Losers Du...   \n",
       "8            8  2020-03-31  Independent worker group calls for Whole Foods...   \n",
       "9            9  2020-03-31  𝗪𝗵𝗲𝗿𝗲 𝗱𝗼 𝘆𝗼𝘂 𝗹𝗶𝗸𝗲 𝘁𝗼 𝘀𝗵𝗼𝗽 𝗺𝗼𝗿𝗲? 🛒🍲🍓🥖🥩\\n\\nWalma...   \n",
       "10          10  2020-03-31  Amazon and Microsoft actually ended the first ...   \n",
       "11          11  2020-03-31  If you're looking for contractor bags on $AMZN...   \n",
       "12          12  2020-03-31  We’re very close to the day where Alexa takes ...   \n",
       "13          13  2020-03-31  1900 PIPS Profit so far🔥🔥\\n\\nFor Free Signals,...   \n",
       "14          14  2020-03-31  $AMZN not a bad looking monthly chart. https:/...   \n",
       "15          15  2020-03-31  Welcome to New York $AMZN https://t.co/QSngwsi...   \n",
       "16          16  2020-03-31  With strikes and a 'sick out,' some grocery an...   \n",
       "17          17  2020-03-31  Netflix, others are market bright spots after ...   \n",
       "18          18  2020-03-31  Strikes @ Amazon &amp; Whole Foods were  DAMP ...   \n",
       "19          19  2020-03-31  Amazon (AMZN) Issues FBA Fee Waiver to Stoke S...   \n",
       "\n",
       "               User         Company Symbol TwitterHandle  \n",
       "0      newsfilterio  Amazon.com Inc   AMZN       @amazon  \n",
       "1   Bruno_J_Navarro  Amazon.com Inc   AMZN       @amazon  \n",
       "2          Upticken  Amazon.com Inc   AMZN       @amazon  \n",
       "3          HPTarget  Amazon.com Inc   AMZN       @amazon  \n",
       "4        winsontang  Amazon.com Inc   AMZN       @amazon  \n",
       "5       theluckyman  Amazon.com Inc   AMZN       @amazon  \n",
       "6    easycomeeasygo  Amazon.com Inc   AMZN       @amazon  \n",
       "7          Benzinga  Amazon.com Inc   AMZN       @amazon  \n",
       "8      newsfilterio  Amazon.com Inc   AMZN       @amazon  \n",
       "9      ForexinWorld  Amazon.com Inc   AMZN       @amazon  \n",
       "10     newsfilterio  Amazon.com Inc   AMZN       @amazon  \n",
       "11  QuisitiveInvest  Amazon.com Inc   AMZN       @amazon  \n",
       "12    4Awesometweet  Amazon.com Inc   AMZN       @amazon  \n",
       "13  cryptoexp74145F  Amazon.com Inc   AMZN       @amazon  \n",
       "14        RitchPhil  Amazon.com Inc   AMZN       @amazon  \n",
       "15         ReishBit  Amazon.com Inc   AMZN       @amazon  \n",
       "16     newsfilterio  Amazon.com Inc   AMZN       @amazon  \n",
       "17   JorelLaraKalel  Amazon.com Inc   AMZN       @amazon  \n",
       "18        StopJeff1  Amazon.com Inc   AMZN       @amazon  \n",
       "19        ASOIideas  Amazon.com Inc   AMZN       @amazon  "
      ]
     },
     "execution_count": 27,
     "metadata": {},
     "output_type": "execute_result"
    }
   ],
   "source": [
    "#Directory = r\"W:\\My Documents\\UMich\\MADS\\M4\\SIADS 591 - Milestone\"\n",
    "\n",
    "#TSLA_Tweets = pd.read_csv(os.path.join(Directory, 'Twitter Analysis', 'CompanyTweets', 'Tweets TSLA 20191201 to 20200601.csv'))\n",
    "AMZN_Tweets = pd.read_csv('AMZN_tweets.csv')\n",
    "AMZN_Tweets.head(20)"
   ]
  },
  {
   "cell_type": "code",
   "execution_count": 29,
   "metadata": {},
   "outputs": [
    {
     "name": "stdout",
     "output_type": "stream",
     "text": [
      "Number of Tweets: 1,000 between 2020-03-30 and 2020-03-31\n"
     ]
    }
   ],
   "source": [
    "print(f\"Number of Tweets: {len(AMZN_Tweets):,} between {min(AMZN_Tweets.Created)} and {max(AMZN_Tweets.Created)}\")"
   ]
  },
  {
   "cell_type": "code",
   "execution_count": 30,
   "metadata": {},
   "outputs": [],
   "source": [
    "TweetsPerDay = AMZN_Tweets.pivot_table(index='Created', values='Text', aggfunc='count')\n",
    "TweetsPerDay.reset_index(inplace=True)\n",
    "TweetsPerDay.sort_values(by='Text', ascending=False)\n",
    "\n",
    "idx = pd.date_range(\"2019-12-01\",\"2020-06-01\")\n",
    "TweetsPerDay.index = pd.DatetimeIndex(TweetsPerDay.Created)\n",
    "TweetsPerDay = TweetsPerDay.reindex(idx, fill_value=0)\n",
    "\n",
    "del TweetsPerDay['Created']"
   ]
  },
  {
   "cell_type": "code",
   "execution_count": 32,
   "metadata": {},
   "outputs": [],
   "source": [
    "#Tesla stock price (June 2017 - June 2019)\n",
    "amznStock = quandl.get(\"EOD/AMZN\", start_date='2019-12-1', end_date='2020-6-1')"
   ]
  },
  {
   "cell_type": "code",
   "execution_count": 40,
   "metadata": {},
   "outputs": [
    {
     "data": {
      "image/png": "[encoded data removed]",
      "text/plain": [
       "<Figure size 1440x720 with 2 Axes>"
      ]
     },
     "metadata": {
      "needs_background": "light"
     },
     "output_type": "display_data"
    }
   ],
   "source": [
    "fig = plt.figure(figsize=(20,10))\n",
    "ax1 = plt.axes()\n",
    "ax1.plot(amznStock['Adj_Close'])\n",
    "ax2 = ax1.twinx()\n",
    "ax2.plot(TweetsPerDay, color='orange')\n",
    "ax1.set_title(nasdaq100[nasdaq100[\"Quandl_Code\"] == \"EOD/AMZN\"].reset_index(drop = True)[\"Name\"][0], size=20)\n",
    "#ax1.rcParams[\"figure.figsize\"] = (20,10)\n",
    "ax1.set_ylabel(\"Daily Adjusted Close Stock Price ($)\", size=16)\n",
    "ax2.set_ylabel(\"Number of Tweets Mentioning @amazon\", size=16)\n",
    "ax1.set_ylim(0,100)\n",
    "ax2.set_ylim(0,600)\n",
    "plt.show()"
   ]
  },
  {
   "cell_type": "code",
   "execution_count": null,
   "metadata": {},
   "outputs": [],
   "source": []
  }
 ],
 "metadata": {
  "kernelspec": {
   "display_name": "Python 3",
   "language": "python",
   "name": "python3"
  },
  "language_info": {
   "codemirror_mode": {
    "name": "ipython",
    "version": 3
   },
   "file_extension": ".py",
   "mimetype": "text/x-python",
   "name": "python",
   "nbconvert_exporter": "python",
   "pygments_lexer": "ipython3",
   "version": "3.7.3"
  }
 },
 "nbformat": 4,
 "nbformat_minor": 4
}
