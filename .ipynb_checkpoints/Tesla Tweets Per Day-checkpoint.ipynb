{
 "cells": [
  {
   "cell_type": "markdown",
   "metadata": {},
   "source": [
    "<h1 style=\"font-size:2.1em;\n",
    "           font-family: Calibri\n",
    "           padding: 20px;\n",
    "           margin: 20px;\n",
    "           height: 100px;\n",
    "           line-height: 100px;\n",
    "           align-items: center;\n",
    "           text-align: center;\n",
    "           border: 3px solid #006400;\n",
    "           background-color: #f1f1f1;\n",
    "           \"> Analysing Tesla Tweets </h1>\n"
   ]
  },
  {
   "cell_type": "code",
   "execution_count": 3,
   "metadata": {},
   "outputs": [],
   "source": [
    "import tweepy as tw\n",
    "import pandas as pd\n",
    "import numpy as np\n",
    "import json\n",
    "\n",
    "from datetime import datetime, timedelta\n",
    "from matplotlib import pyplot as plt"
   ]
  },
  {
   "cell_type": "code",
   "execution_count": 4,
   "metadata": {},
   "outputs": [],
   "source": [
    "consumer_key=''\n",
    "consumer_secret=''\n",
    "access_token_key=''\n",
    "access_token_secret=''"
   ]
  },
  {
   "cell_type": "markdown",
   "metadata": {},
   "source": [
    "## Try Create a Connection using Tweepy"
   ]
  },
  {
   "cell_type": "markdown",
   "metadata": {},
   "source": [
    "### Set up the API Connection"
   ]
  },
  {
   "cell_type": "code",
   "execution_count": 9,
   "metadata": {},
   "outputs": [],
   "source": [
    "auth = tw.OAuthHandler(consumer_key,consumer_secret)\n",
    "auth.set_access_token(access_token_key, access_token_secret)\n",
    "api = tw.API(auth, wait_on_rate_limit=True)"
   ]
  },
  {
   "cell_type": "markdown",
   "metadata": {},
   "source": [
    "### Set up the Query"
   ]
  },
  {
   "cell_type": "code",
   "execution_count": 46,
   "metadata": {},
   "outputs": [
    {
     "data": {
      "text/plain": [
       "'#Tesla or @Tesla since:2019-01-14 until:2021-01-15'"
      ]
     },
     "execution_count": 46,
     "metadata": {},
     "output_type": "execute_result"
    }
   ],
   "source": [
    "#date_since = \"2018-11-16\"\n",
    "date_since = datetime(2019, 1, 14, 0, 0, 0)\n",
    "date_until = datetime(2021, 1, 15, 0, 0, 0)\n",
    "#date_until = (date_since + timedelta(1)).strftime(\"%Y-%m-%d\")\n",
    "date_until = date_until.strftime(\"%Y-%m-%d\")\n",
    "date_since = date_since.strftime(\"%Y-%m-%d\")\n",
    "\n",
    "search_words = f\"#Tesla or @Tesla since:{date_since} until:{date_until}\"\n",
    "search_words"
   ]
  },
  {
   "cell_type": "code",
   "execution_count": 80,
   "metadata": {},
   "outputs": [],
   "source": [
    "tweets = tw.Cursor(api.search,\n",
    "              q=search_words,\n",
    "              lang=\"en\"\n",
    "                  ).items()"
   ]
  },
  {
   "cell_type": "code",
   "execution_count": 81,
   "metadata": {},
   "outputs": [
    {
     "data": {
      "text/html": [
       "<div>\n",
       "<style scoped>\n",
       "    .dataframe tbody tr th:only-of-type {\n",
       "        vertical-align: middle;\n",
       "    }\n",
       "\n",
       "    .dataframe tbody tr th {\n",
       "        vertical-align: top;\n",
       "    }\n",
       "\n",
       "    .dataframe thead th {\n",
       "        text-align: right;\n",
       "    }\n",
       "</style>\n",
       "<table border=\"1\" class=\"dataframe\">\n",
       "  <thead>\n",
       "    <tr style=\"text-align: right;\">\n",
       "      <th></th>\n",
       "      <th>Created</th>\n",
       "      <th>Text</th>\n",
       "      <th>User</th>\n",
       "      <th>ScreenName</th>\n",
       "    </tr>\n",
       "  </thead>\n",
       "  <tbody>\n",
       "    <tr>\n",
       "      <th>0</th>\n",
       "      <td>2021-01-14 22:48:56</td>\n",
       "      <td>What’s everyone’s guess on when @Tesla will re...</td>\n",
       "      <td>Travisleslie</td>\n",
       "      <td>Travisdleslie</td>\n",
       "    </tr>\n",
       "    <tr>\n",
       "      <th>1</th>\n",
       "      <td>2021-01-14 18:12:18</td>\n",
       "      <td>RT @hilton_philip: @GBEnglandGB @soissonschris...</td>\n",
       "      <td>CHRISTINE</td>\n",
       "      <td>soissonschris</td>\n",
       "    </tr>\n",
       "    <tr>\n",
       "      <th>2</th>\n",
       "      <td>2021-01-14 13:14:41</td>\n",
       "      <td>Wouldn't it be great to see these EV chargers ...</td>\n",
       "      <td>Lex Corp News Letter</td>\n",
       "      <td>LexCorporation</td>\n",
       "    </tr>\n",
       "    <tr>\n",
       "      <th>3</th>\n",
       "      <td>2021-01-14 12:25:35</td>\n",
       "      <td>@GBEnglandGB @soissonschris Is that #car an #E...</td>\n",
       "      <td>Philip Hilton yogi main</td>\n",
       "      <td>hilton_philip</td>\n",
       "    </tr>\n",
       "    <tr>\n",
       "      <th>4</th>\n",
       "      <td>2021-01-14 07:40:07</td>\n",
       "      <td>@elonmusk why does not Tesla make cummunity fo...</td>\n",
       "      <td>Øivind Midtun</td>\n",
       "      <td>oemidt</td>\n",
       "    </tr>\n",
       "  </tbody>\n",
       "</table>\n",
       "</div>"
      ],
      "text/plain": [
       "              Created                                               Text  \\\n",
       "0 2021-01-14 22:48:56  What’s everyone’s guess on when @Tesla will re...   \n",
       "1 2021-01-14 18:12:18  RT @hilton_philip: @GBEnglandGB @soissonschris...   \n",
       "2 2021-01-14 13:14:41  Wouldn't it be great to see these EV chargers ...   \n",
       "3 2021-01-14 12:25:35  @GBEnglandGB @soissonschris Is that #car an #E...   \n",
       "4 2021-01-14 07:40:07  @elonmusk why does not Tesla make cummunity fo...   \n",
       "\n",
       "                      User      ScreenName  \n",
       "0             Travisleslie   Travisdleslie  \n",
       "1                CHRISTINE   soissonschris  \n",
       "2     Lex Corp News Letter  LexCorporation  \n",
       "3  Philip Hilton yogi main   hilton_philip  \n",
       "4            Øivind Midtun          oemidt  "
      ]
     },
     "execution_count": 81,
     "metadata": {},
     "output_type": "execute_result"
    }
   ],
   "source": [
    "TweetList = [[tweet.created_at, tweet.text, tweet.user.name, tweet.user.screen_name] for tweet in tweets]\n",
    "TweetList_df = pd.DataFrame(data = TweetList, columns= ['Created','Text','User','ScreenName'])\n",
    "TweetList_df.head()"
   ]
  },
  {
   "cell_type": "code",
   "execution_count": 82,
   "metadata": {},
   "outputs": [
    {
     "name": "stdout",
     "output_type": "stream",
     "text": [
      "Earliest Date available using Tweepy: 2021-01-09\n"
     ]
    }
   ],
   "source": [
    "print(f\"Earliest Date available using Tweepy: {min(TweetList_df['Created']).strftime('%Y-%m-%d')}\")"
   ]
  },
  {
   "cell_type": "code",
   "execution_count": 83,
   "metadata": {},
   "outputs": [
    {
     "data": {
      "text/plain": [
       "47"
      ]
     },
     "execution_count": 83,
     "metadata": {},
     "output_type": "execute_result"
    }
   ],
   "source": [
    "len(TweetList_df)"
   ]
  },
  {
   "cell_type": "markdown",
   "metadata": {},
   "source": [
    "### Try Out Using BSI Sentiment Package Instead"
   ]
  },
  {
   "cell_type": "code",
   "execution_count": 57,
   "metadata": {},
   "outputs": [
    {
     "name": "stderr",
     "output_type": "stream",
     "text": [
      "Downloading tweets:  56%|████████████████████████████████▏                         | 1112/2000 [00:12<00:10, 88.25it/s]\n"
     ]
    },
    {
     "data": {
      "text/html": [
       "<div>\n",
       "<style scoped>\n",
       "    .dataframe tbody tr th:only-of-type {\n",
       "        vertical-align: middle;\n",
       "    }\n",
       "\n",
       "    .dataframe tbody tr th {\n",
       "        vertical-align: top;\n",
       "    }\n",
       "\n",
       "    .dataframe thead th {\n",
       "        text-align: right;\n",
       "    }\n",
       "</style>\n",
       "<table border=\"1\" class=\"dataframe\">\n",
       "  <thead>\n",
       "    <tr style=\"text-align: right;\">\n",
       "      <th></th>\n",
       "      <th>Created</th>\n",
       "      <th>Text</th>\n",
       "      <th>User</th>\n",
       "    </tr>\n",
       "  </thead>\n",
       "  <tbody>\n",
       "    <tr>\n",
       "      <th>0</th>\n",
       "      <td>2019-12-30</td>\n",
       "      <td>Government of India(GOI) wanted to innovate in...</td>\n",
       "      <td>RohithDarisa</td>\n",
       "    </tr>\n",
       "    <tr>\n",
       "      <th>1</th>\n",
       "      <td>2019-12-29</td>\n",
       "      <td>That’ll be pretty cool. It’d be great to watch...</td>\n",
       "      <td>iBeckTech</td>\n",
       "    </tr>\n",
       "    <tr>\n",
       "      <th>2</th>\n",
       "      <td>2019-12-28</td>\n",
       "      <td>One of the things I love most about my @Tesla ...</td>\n",
       "      <td>InSpaceXItrust</td>\n",
       "    </tr>\n",
       "    <tr>\n",
       "      <th>3</th>\n",
       "      <td>2019-12-26</td>\n",
       "      <td>Tesla announced some useful tech updates for o...</td>\n",
       "      <td>carsdotcom</td>\n",
       "    </tr>\n",
       "    <tr>\n",
       "      <th>4</th>\n",
       "      <td>2019-12-26</td>\n",
       "      <td>I am currently building an AI-based iOS app th...</td>\n",
       "      <td>orcyork</td>\n",
       "    </tr>\n",
       "  </tbody>\n",
       "</table>\n",
       "</div>"
      ],
      "text/plain": [
       "      Created                                               Text  \\\n",
       "0  2019-12-30  Government of India(GOI) wanted to innovate in...   \n",
       "1  2019-12-29  That’ll be pretty cool. It’d be great to watch...   \n",
       "2  2019-12-28  One of the things I love most about my @Tesla ...   \n",
       "3  2019-12-26  Tesla announced some useful tech updates for o...   \n",
       "4  2019-12-26  I am currently building an AI-based iOS app th...   \n",
       "\n",
       "             User  \n",
       "0    RohithDarisa  \n",
       "1       iBeckTech  \n",
       "2  InSpaceXItrust  \n",
       "3      carsdotcom  \n",
       "4         orcyork  "
      ]
     },
     "execution_count": 57,
     "metadata": {},
     "output_type": "execute_result"
    }
   ],
   "source": [
    "from bsi_sentiment.twitter import search_tweets_sn\n",
    "\n",
    "tweets = search_tweets_sn(\n",
    "  q=\"#Tesla or @Tesla\",\n",
    "  since=\"2017-12-31\",\n",
    "  until=\"2019-12-31\",\n",
    "#   near=\"New York\",\n",
    "#   radius=\"100km\",\n",
    "  lang=\"en\",\n",
    "  max_tweets=2000\n",
    ")\n",
    "TweetList = [[tweet.date, tweet.text, tweet.username] for tweet in tweets]\n",
    "TweetList_BSI_df = pd.DataFrame(data = TweetList, columns= ['Created','Text','User'])\n",
    "TweetList_BSI_df.head()"
   ]
  },
  {
   "cell_type": "code",
   "execution_count": 85,
   "metadata": {},
   "outputs": [
    {
     "data": {
      "text/plain": [
       "'Government of India(GOI) wanted to innovate in EV space and want most of vehicles sold, to be electric by 2025 or so. \\nAnd on the other hand the import duty on @Tesla electric vehicles is 100%\\U0001f92d\\n\\nWALK THE TALK, GOI @narendramodi 😐\\n\\n@TeslaClubIN @TeslaMotorsClub @elonmusk \\n#Tesla'"
      ]
     },
     "execution_count": 85,
     "metadata": {},
     "output_type": "execute_result"
    }
   ],
   "source": [
    "TweetList_BSI_df.Text[0]"
   ]
  },
  {
   "cell_type": "code",
   "execution_count": 61,
   "metadata": {
    "scrolled": true
   },
   "outputs": [
    {
     "name": "stdout",
     "output_type": "stream",
     "text": [
      "Earliest Date available using bsi_sentiment: 2018-01-02\n"
     ]
    }
   ],
   "source": [
    "print(f\"Earliest Date available using bsi_sentiment: {min(TweetList_BSI_df['Created'])}\")"
   ]
  },
  {
   "cell_type": "markdown",
   "metadata": {},
   "source": [
    "### Create a Plot of Twitter Vols For Tesla"
   ]
  },
  {
   "cell_type": "code",
   "execution_count": 84,
   "metadata": {},
   "outputs": [
    {
     "data": {
      "text/html": [
       "<div>\n",
       "<style scoped>\n",
       "    .dataframe tbody tr th:only-of-type {\n",
       "        vertical-align: middle;\n",
       "    }\n",
       "\n",
       "    .dataframe tbody tr th {\n",
       "        vertical-align: top;\n",
       "    }\n",
       "\n",
       "    .dataframe thead th {\n",
       "        text-align: right;\n",
       "    }\n",
       "</style>\n",
       "<table border=\"1\" class=\"dataframe\">\n",
       "  <thead>\n",
       "    <tr style=\"text-align: right;\">\n",
       "      <th></th>\n",
       "      <th>Text</th>\n",
       "    </tr>\n",
       "  </thead>\n",
       "  <tbody>\n",
       "    <tr>\n",
       "      <th>2017-12-31</th>\n",
       "      <td>0</td>\n",
       "    </tr>\n",
       "    <tr>\n",
       "      <th>2018-01-01</th>\n",
       "      <td>0</td>\n",
       "    </tr>\n",
       "    <tr>\n",
       "      <th>2018-01-02</th>\n",
       "      <td>1</td>\n",
       "    </tr>\n",
       "    <tr>\n",
       "      <th>2018-01-03</th>\n",
       "      <td>0</td>\n",
       "    </tr>\n",
       "    <tr>\n",
       "      <th>2018-01-04</th>\n",
       "      <td>1</td>\n",
       "    </tr>\n",
       "    <tr>\n",
       "      <th>2018-01-05</th>\n",
       "      <td>0</td>\n",
       "    </tr>\n",
       "    <tr>\n",
       "      <th>2018-01-06</th>\n",
       "      <td>0</td>\n",
       "    </tr>\n",
       "    <tr>\n",
       "      <th>2018-01-07</th>\n",
       "      <td>1</td>\n",
       "    </tr>\n",
       "    <tr>\n",
       "      <th>2018-01-08</th>\n",
       "      <td>1</td>\n",
       "    </tr>\n",
       "    <tr>\n",
       "      <th>2018-01-09</th>\n",
       "      <td>0</td>\n",
       "    </tr>\n",
       "  </tbody>\n",
       "</table>\n",
       "</div>"
      ],
      "text/plain": [
       "            Text\n",
       "2017-12-31     0\n",
       "2018-01-01     0\n",
       "2018-01-02     1\n",
       "2018-01-03     0\n",
       "2018-01-04     1\n",
       "2018-01-05     0\n",
       "2018-01-06     0\n",
       "2018-01-07     1\n",
       "2018-01-08     1\n",
       "2018-01-09     0"
      ]
     },
     "execution_count": 84,
     "metadata": {},
     "output_type": "execute_result"
    }
   ],
   "source": [
    "TweetsPerDay = TweetList_BSI_df.pivot_table(index='Created', values='Text', aggfunc='count')\n",
    "TweetsPerDay.reset_index(inplace=True)\n",
    "TweetsPerDay.sort_values(by='Text', ascending=False)\n",
    "\n",
    "idx = pd.date_range(\"2017-12-31\",\"2019-12-31\")\n",
    "TweetsPerDay.index = pd.DatetimeIndex(TweetsPerDay.Created)\n",
    "TweetsPerDay = TweetsPerDay.reindex(idx, fill_value=0)\n",
    "\n",
    "del TweetsPerDay['Created']\n",
    "\n",
    "TweetsPerDay.head(10)"
   ]
  },
  {
   "cell_type": "code",
   "execution_count": 78,
   "metadata": {},
   "outputs": [
    {
     "data": {
      "image/png": "[encoded data removed]",
      "text/plain": [
       "<Figure size 1440x720 with 1 Axes>"
      ]
     },
     "metadata": {
      "needs_background": "light"
     },
     "output_type": "display_data"
    }
   ],
   "source": [
    "plt.figure(figsize=(20,10))\n",
    "plt.bar(TweetsPerDay.index, TweetsPerDay.Text)\n",
    "plt.xlabel('Tweet Date')\n",
    "plt.ylabel('Number of Tweets')\n",
    "plt.title('Number of Tesla Tweets per day - BSI Data ')\n",
    "plt.show();"
   ]
  }
 ],
 "metadata": {
  "kernelspec": {
   "display_name": "Python 3",
   "language": "python",
   "name": "python3"
  },
  "language_info": {
   "codemirror_mode": {
    "name": "ipython",
    "version": 3
   },
   "file_extension": ".py",
   "mimetype": "text/x-python",
   "name": "python",
   "nbconvert_exporter": "python",
   "pygments_lexer": "ipython3",
   "version": "3.6.3"
  }
 },
 "nbformat": 4,
 "nbformat_minor": 2
}
